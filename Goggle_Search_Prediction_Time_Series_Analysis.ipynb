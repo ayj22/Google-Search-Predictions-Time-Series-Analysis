{
  "nbformat": 4,
  "nbformat_minor": 0,
  "metadata": {
    "colab": {
      "name": "Goggle_Search_Prediction_Time_Series_Analysis",
      "provenance": [],
      "collapsed_sections": []
    },
    "kernelspec": {
      "name": "python3",
      "display_name": "Python 3"
    }
  },
  "cells": [
    {
      "cell_type": "code",
      "metadata": {
        "id": "G0x3_wRO7A9U"
      },
      "source": [
        "#Importing libraries\n",
        "import numpy as np\n",
        "import pandas as pd \n",
        "import seaborn as sns\n",
        "import matplotlib.pyplot as plt\n",
        "import datetime as dt\n",
        "from sklearn.model_selection import train_test_split\n",
        "from sklearn.neighbors import KNeighborsRegressor\n",
        "from sklearn.metrics import mean_squared_error \n",
        "from math import sqrt"
      ],
      "execution_count": null,
      "outputs": []
    },
    {
      "cell_type": "code",
      "metadata": {
        "id": "jmlILfq873h5"
      },
      "source": [
        "#Importing the data \n",
        "data_raw = pd.read_csv(\"dataset_1.csv\", header= 0)\n",
        "data = data_raw\n",
        "\n",
        "#Converting the Week column into Number of weeks\n",
        "def createList(a, b): \n",
        "    return [item for item in range(a, b+1)] \n",
        "a, b = 1, len(data.Week)\n",
        "\n",
        "data[\"Week_Num\"] = createList(a, b)"
      ],
      "execution_count": null,
      "outputs": []
    },
    {
      "cell_type": "code",
      "metadata": {
        "id": "mnWLeTr7gkCY"
      },
      "source": [
        "#Remaining the column name\n",
        "data.columns= [\"Week\", \"Count\", \"Week_Num\"]\n",
        "#Dropping Week column and storing it into new variable\n",
        "data_2d = data.iloc[:,1:]\n",
        "\n",
        "final_result = []"
      ],
      "execution_count": null,
      "outputs": []
    },
    {
      "cell_type": "markdown",
      "metadata": {
        "id": "Y6W3QmJWVotu"
      },
      "source": [
        "#### Converting the data from 1 dimanetional to n dimentional. In our case the value of n = 2"
      ]
    },
    {
      "cell_type": "code",
      "metadata": {
        "id": "t-7EaceYVnYd"
      },
      "source": [
        "#Using lag method to increase the dimensionality\n",
        "data_2d[\"Count_lag1\"] = data_2d.Count.shift(1)\n",
        "\n",
        "#Excluding the top row with Nan values to make data clean\n",
        "data_2d = data_2d.iloc[1:]\n",
        "\n",
        "#Assigning x and y values\n",
        "x = data_2d.iloc[:,1:]\n",
        "y = data_2d.iloc[:, 0]"
      ],
      "execution_count": null,
      "outputs": []
    },
    {
      "cell_type": "markdown",
      "metadata": {
        "id": "uyU2oFnQ2wI6"
      },
      "source": [
        "**Note: According to sklearn library in knn classifier if we allocate the power parameter for default metric Minkowski as p = 1, the algorithm calculate the values using manhattan distance."
      ]
    },
    {
      "cell_type": "code",
      "metadata": {
        "id": "NHYlqGg2Vj1u",
        "colab": {
          "base_uri": "https://localhost:8080/"
        },
        "outputId": "b8dbfc9e-7451-41a4-a905-d45bdd71a640"
      },
      "source": [
        "#Applying and fitting the knn model for n = 2\n",
        "def knn_regressor(k_value, distance_metric, x, y):\n",
        "  model_2d = KNeighborsRegressor(n_neighbors = k_value, algorithm='auto', leaf_size=30, metric='minkowski', p = distance_metric)\n",
        "  model_2d.fit(x, y)\n",
        "  return model_2d\n",
        "\n",
        "#Forming the loop to find all the combination of K-values and Distance metrics\n",
        "k_values = [1,3,5,7]\n",
        "distance_metric = [1,2]\n",
        "\n",
        "for i in k_values:\n",
        "  print(\"\\nVALUE OF k\", i)\n",
        "  for k in distance_metric:\n",
        "    model_2d = knn_regressor(i,k, x, y)\n",
        "    #Calculating performance on training set\n",
        "    if k == 1:\n",
        "      print('Value of distance_metric: Manhattan')\n",
        "    else:\n",
        "      print('Value of distance_metric: Euclidean')\n",
        "\n",
        "    prediction = model_2d.predict(x)\n",
        "    error = sqrt(mean_squared_error(y,prediction))\n",
        "    print('Root Mean Square Error (n = 2):',error)\n",
        "    \n",
        "    prediction_last_week = model_2d.predict([[259,37]])\n",
        "    final_result.append(['2',i,k,error,round(prediction_last_week[0])])"
      ],
      "execution_count": null,
      "outputs": [
        {
          "output_type": "stream",
          "text": [
            "\n",
            "VALUE OF k 1\n",
            "Value of distance_metric: Manhattan\n",
            "Root Mean Square Error (n = 2): 0.0\n",
            "Value of distance_metric: Euclidean\n",
            "Root Mean Square Error (n = 2): 0.0\n",
            "\n",
            "VALUE OF k 3\n",
            "Value of distance_metric: Manhattan\n",
            "Root Mean Square Error (n = 2): 8.92342290343357\n",
            "Value of distance_metric: Euclidean\n",
            "Root Mean Square Error (n = 2): 9.029166063002808\n",
            "\n",
            "VALUE OF k 5\n",
            "Value of distance_metric: Manhattan\n",
            "Root Mean Square Error (n = 2): 9.841409113197832\n",
            "Value of distance_metric: Euclidean\n",
            "Root Mean Square Error (n = 2): 9.791880832228205\n",
            "\n",
            "VALUE OF k 7\n",
            "Value of distance_metric: Manhattan\n",
            "Root Mean Square Error (n = 2): 10.448478398239379\n",
            "Value of distance_metric: Euclidean\n",
            "Root Mean Square Error (n = 2): 10.324416543595573\n"
          ],
          "name": "stdout"
        }
      ]
    },
    {
      "cell_type": "markdown",
      "metadata": {
        "id": "K0VwghsuCR5h"
      },
      "source": [
        "#### Converting the data from 1 dimanetional to n dimentional. In our case the value of n = 3"
      ]
    },
    {
      "cell_type": "code",
      "metadata": {
        "id": "s2p-xg_ZCLMw"
      },
      "source": [
        "#Using lag method to increase the dimensionality\n",
        "data_3d = data.iloc[:,1:]\n",
        "data_3d[\"Count_lag1\"] = data_3d.Count.shift(1)\n",
        "data_3d[\"Count_lag2\"] = data_3d.Count.shift(2)\n",
        "\n",
        "#Excluding the top row with Nan values to make data clean\n",
        "data_3d = data_3d.iloc[2:]\n",
        "\n",
        "#Assigning x and y values\n",
        "x3 = data_3d.iloc[:,1:]\n",
        "y3 = data_3d.iloc[:, 0]"
      ],
      "execution_count": null,
      "outputs": []
    },
    {
      "cell_type": "markdown",
      "metadata": {
        "id": "qAyYs8jcD1pz"
      },
      "source": [
        "**Note: According to sklearn library in knn classifier if we allocate the power parameter for default metric Minkowski as p = 1, the algorithm calculate the values using manhattan distance."
      ]
    },
    {
      "cell_type": "code",
      "metadata": {
        "id": "aZykMppHCK7h",
        "colab": {
          "base_uri": "https://localhost:8080/"
        },
        "outputId": "ba750f3c-39a0-43e2-876d-afda895a4406"
      },
      "source": [
        "#Applying and fitting the knn model for n=3\n",
        "def knn_regressor(k_value, distance_metric, x3, y3):\n",
        "  model_3d = KNeighborsRegressor(n_neighbors = k_value, algorithm='auto', leaf_size=30, metric='minkowski', p = distance_metric)\n",
        "  model_3d.fit(x3, y3)\n",
        "  return model_3d\n",
        "\n",
        "k_values = [1,3,5,7]\n",
        "distance_metric = [1,2]\n",
        "\n",
        "for i in k_values:\n",
        "  print(\"\\nVALUE OF k\", i)\n",
        "  for k in distance_metric:\n",
        "    model_3d = knn_regressor(i,k, x3, y3)\n",
        "    #Calculating performance on training set\n",
        "    if k == 1:\n",
        "      print('Value of distance_metric: Manhattan')\n",
        "    else:\n",
        "      print('Value of distance_metric: Euclidean')\n",
        "\n",
        "    prediction = model_3d.predict(x3)\n",
        "    error = sqrt(mean_squared_error(y3,prediction))\n",
        "    print('Root Mean Square Error (n = 3) :',error)\n",
        "\n",
        "    prediction_last_week = model_3d.predict([[259,37, 27]])\n",
        "\n",
        "    #final_result.append[]\n",
        "    final_result.append(['3',i,k,error,round(prediction_last_week[0])])"
      ],
      "execution_count": null,
      "outputs": [
        {
          "output_type": "stream",
          "text": [
            "\n",
            "VALUE OF k 1\n",
            "Value of distance_metric: Manhattan\n",
            "Root Mean Square Error (n = 3) : 0.0\n",
            "Value of distance_metric: Euclidean\n",
            "Root Mean Square Error (n = 3) : 0.0\n",
            "\n",
            "VALUE OF k 3\n",
            "Value of distance_metric: Manhattan\n",
            "Root Mean Square Error (n = 3) : 9.319310384577744\n",
            "Value of distance_metric: Euclidean\n",
            "Root Mean Square Error (n = 3) : 9.421002927087079\n",
            "\n",
            "VALUE OF k 5\n",
            "Value of distance_metric: Manhattan\n",
            "Root Mean Square Error (n = 3) : 10.390709708630459\n",
            "Value of distance_metric: Euclidean\n",
            "Root Mean Square Error (n = 3) : 10.618961089972512\n",
            "\n",
            "VALUE OF k 7\n",
            "Value of distance_metric: Manhattan\n",
            "Root Mean Square Error (n = 3) : 10.764112415626471\n",
            "Value of distance_metric: Euclidean\n",
            "Root Mean Square Error (n = 3) : 10.835295886184086\n"
          ],
          "name": "stdout"
        }
      ]
    },
    {
      "cell_type": "code",
      "metadata": {
        "id": "R4jO8LQSXO6J",
        "colab": {
          "base_uri": "https://localhost:8080/",
          "height": 528
        },
        "outputId": "746ed1c6-827c-40f0-97a3-945e1b3910b6"
      },
      "source": [
        "results = pd.DataFrame(final_result,columns=['Dimensions','K_Value','Distance_Metric','RMSE', 'Last_week_prediction'])\n",
        "results.Distance_Metric = results.Distance_Metric.apply(lambda x: 'Manhattan' if x == 1 else 'Euclidean')\n",
        "results['Actual_Value'] = 46\n",
        "results['Difference in Real & Predicted Value'] = results['Actual_Value'] -  results['Last_week_prediction']\n",
        "results"
      ],
      "execution_count": null,
      "outputs": [
        {
          "output_type": "execute_result",
          "data": {
            "text/html": [
              "<div>\n",
              "<style scoped>\n",
              "    .dataframe tbody tr th:only-of-type {\n",
              "        vertical-align: middle;\n",
              "    }\n",
              "\n",
              "    .dataframe tbody tr th {\n",
              "        vertical-align: top;\n",
              "    }\n",
              "\n",
              "    .dataframe thead th {\n",
              "        text-align: right;\n",
              "    }\n",
              "</style>\n",
              "<table border=\"1\" class=\"dataframe\">\n",
              "  <thead>\n",
              "    <tr style=\"text-align: right;\">\n",
              "      <th></th>\n",
              "      <th>Dimensions</th>\n",
              "      <th>K_Value</th>\n",
              "      <th>Distance_Metric</th>\n",
              "      <th>RMSE</th>\n",
              "      <th>Last_week_prediction</th>\n",
              "      <th>Actual_Value</th>\n",
              "      <th>Difference in Real &amp; Predicted Value</th>\n",
              "    </tr>\n",
              "  </thead>\n",
              "  <tbody>\n",
              "    <tr>\n",
              "      <th>0</th>\n",
              "      <td>2</td>\n",
              "      <td>1</td>\n",
              "      <td>Manhattan</td>\n",
              "      <td>0.000000</td>\n",
              "      <td>46</td>\n",
              "      <td>46</td>\n",
              "      <td>0</td>\n",
              "    </tr>\n",
              "    <tr>\n",
              "      <th>1</th>\n",
              "      <td>2</td>\n",
              "      <td>1</td>\n",
              "      <td>Euclidean</td>\n",
              "      <td>0.000000</td>\n",
              "      <td>46</td>\n",
              "      <td>46</td>\n",
              "      <td>0</td>\n",
              "    </tr>\n",
              "    <tr>\n",
              "      <th>2</th>\n",
              "      <td>2</td>\n",
              "      <td>3</td>\n",
              "      <td>Manhattan</td>\n",
              "      <td>8.923423</td>\n",
              "      <td>44</td>\n",
              "      <td>46</td>\n",
              "      <td>2</td>\n",
              "    </tr>\n",
              "    <tr>\n",
              "      <th>3</th>\n",
              "      <td>2</td>\n",
              "      <td>3</td>\n",
              "      <td>Euclidean</td>\n",
              "      <td>9.029166</td>\n",
              "      <td>44</td>\n",
              "      <td>46</td>\n",
              "      <td>2</td>\n",
              "    </tr>\n",
              "    <tr>\n",
              "      <th>4</th>\n",
              "      <td>2</td>\n",
              "      <td>5</td>\n",
              "      <td>Manhattan</td>\n",
              "      <td>9.841409</td>\n",
              "      <td>42</td>\n",
              "      <td>46</td>\n",
              "      <td>4</td>\n",
              "    </tr>\n",
              "    <tr>\n",
              "      <th>5</th>\n",
              "      <td>2</td>\n",
              "      <td>5</td>\n",
              "      <td>Euclidean</td>\n",
              "      <td>9.791881</td>\n",
              "      <td>42</td>\n",
              "      <td>46</td>\n",
              "      <td>4</td>\n",
              "    </tr>\n",
              "    <tr>\n",
              "      <th>6</th>\n",
              "      <td>2</td>\n",
              "      <td>7</td>\n",
              "      <td>Manhattan</td>\n",
              "      <td>10.448478</td>\n",
              "      <td>42</td>\n",
              "      <td>46</td>\n",
              "      <td>4</td>\n",
              "    </tr>\n",
              "    <tr>\n",
              "      <th>7</th>\n",
              "      <td>2</td>\n",
              "      <td>7</td>\n",
              "      <td>Euclidean</td>\n",
              "      <td>10.324417</td>\n",
              "      <td>42</td>\n",
              "      <td>46</td>\n",
              "      <td>4</td>\n",
              "    </tr>\n",
              "    <tr>\n",
              "      <th>8</th>\n",
              "      <td>3</td>\n",
              "      <td>1</td>\n",
              "      <td>Manhattan</td>\n",
              "      <td>0.000000</td>\n",
              "      <td>46</td>\n",
              "      <td>46</td>\n",
              "      <td>0</td>\n",
              "    </tr>\n",
              "    <tr>\n",
              "      <th>9</th>\n",
              "      <td>3</td>\n",
              "      <td>1</td>\n",
              "      <td>Euclidean</td>\n",
              "      <td>0.000000</td>\n",
              "      <td>46</td>\n",
              "      <td>46</td>\n",
              "      <td>0</td>\n",
              "    </tr>\n",
              "    <tr>\n",
              "      <th>10</th>\n",
              "      <td>3</td>\n",
              "      <td>3</td>\n",
              "      <td>Manhattan</td>\n",
              "      <td>9.319310</td>\n",
              "      <td>44</td>\n",
              "      <td>46</td>\n",
              "      <td>2</td>\n",
              "    </tr>\n",
              "    <tr>\n",
              "      <th>11</th>\n",
              "      <td>3</td>\n",
              "      <td>3</td>\n",
              "      <td>Euclidean</td>\n",
              "      <td>9.421003</td>\n",
              "      <td>44</td>\n",
              "      <td>46</td>\n",
              "      <td>2</td>\n",
              "    </tr>\n",
              "    <tr>\n",
              "      <th>12</th>\n",
              "      <td>3</td>\n",
              "      <td>5</td>\n",
              "      <td>Manhattan</td>\n",
              "      <td>10.390710</td>\n",
              "      <td>42</td>\n",
              "      <td>46</td>\n",
              "      <td>4</td>\n",
              "    </tr>\n",
              "    <tr>\n",
              "      <th>13</th>\n",
              "      <td>3</td>\n",
              "      <td>5</td>\n",
              "      <td>Euclidean</td>\n",
              "      <td>10.618961</td>\n",
              "      <td>42</td>\n",
              "      <td>46</td>\n",
              "      <td>4</td>\n",
              "    </tr>\n",
              "    <tr>\n",
              "      <th>14</th>\n",
              "      <td>3</td>\n",
              "      <td>7</td>\n",
              "      <td>Manhattan</td>\n",
              "      <td>10.764112</td>\n",
              "      <td>42</td>\n",
              "      <td>46</td>\n",
              "      <td>4</td>\n",
              "    </tr>\n",
              "    <tr>\n",
              "      <th>15</th>\n",
              "      <td>3</td>\n",
              "      <td>7</td>\n",
              "      <td>Euclidean</td>\n",
              "      <td>10.835296</td>\n",
              "      <td>42</td>\n",
              "      <td>46</td>\n",
              "      <td>4</td>\n",
              "    </tr>\n",
              "  </tbody>\n",
              "</table>\n",
              "</div>"
            ],
            "text/plain": [
              "   Dimensions  K_Value  ... Actual_Value  Difference in Real & Predicted Value\n",
              "0           2        1  ...           46                                     0\n",
              "1           2        1  ...           46                                     0\n",
              "2           2        3  ...           46                                     2\n",
              "3           2        3  ...           46                                     2\n",
              "4           2        5  ...           46                                     4\n",
              "5           2        5  ...           46                                     4\n",
              "6           2        7  ...           46                                     4\n",
              "7           2        7  ...           46                                     4\n",
              "8           3        1  ...           46                                     0\n",
              "9           3        1  ...           46                                     0\n",
              "10          3        3  ...           46                                     2\n",
              "11          3        3  ...           46                                     2\n",
              "12          3        5  ...           46                                     4\n",
              "13          3        5  ...           46                                     4\n",
              "14          3        7  ...           46                                     4\n",
              "15          3        7  ...           46                                     4\n",
              "\n",
              "[16 rows x 7 columns]"
            ]
          },
          "metadata": {
            "tags": []
          },
          "execution_count": 8
        }
      ]
    },
    {
      "cell_type": "markdown",
      "metadata": {
        "id": "Ar07gteQ5MBB"
      },
      "source": [
        "Conclusion:\n",
        "\n",
        "1. In case of k=1 iverfits the training data.\n",
        "2. As k value is increasing the RMSE for the model is increasing.  \n",
        "3. In conclusion as per the results we have obersed that the following combination of parameter where n = 2, k = 3, distance metric = Manhattan results into rmse = 8.923423 with given data. Results given are as follows:  Real value = 46 and Predicted Value = 44."
      ]
    }
  ]
}